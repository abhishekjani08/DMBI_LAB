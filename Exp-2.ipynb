{
 "cells": [
  {
   "cell_type": "code",
   "execution_count": 98,
   "id": "82c23e1e",
   "metadata": {},
   "outputs": [],
   "source": [
    "#Rescale Data"
   ]
  },
  {
   "cell_type": "code",
   "execution_count": 99,
   "id": "5893aacf",
   "metadata": {},
   "outputs": [],
   "source": [
    "# importing libraries\n",
    "import pandas as pd\n",
    "import scipy\n",
    "import numpy\n",
    "from sklearn.preprocessing import MinMaxScaler"
   ]
  },
  {
   "cell_type": "code",
   "execution_count": 100,
   "id": "6953544c",
   "metadata": {},
   "outputs": [],
   "source": [
    "# data set link\n",
    "df=pd.read_csv(\"House_Rent.csv\")"
   ]
  },
  {
   "cell_type": "code",
   "execution_count": 101,
   "id": "b4ffd974",
   "metadata": {},
   "outputs": [],
   "source": [
    "# data parameters\n",
    "names = ['BHK', 'Rent', 'Size']"
   ]
  },
  {
   "cell_type": "code",
   "execution_count": 102,
   "id": "f2a3dde2",
   "metadata": {},
   "outputs": [],
   "source": [
    "# preparating of dataframe using the data at given link and defined columns list\n",
    "dataframe = pandas.read_csv(\"House_Rent.csv\", names = names)\n",
    "array = dataframe.values"
   ]
  },
  {
   "cell_type": "code",
   "execution_count": 103,
   "id": "5bc13ef2",
   "metadata": {},
   "outputs": [],
   "source": [
    "# separate array into input and output components\n",
    "X = array[:,0:8]\n",
    "Y = array[:,2]"
   ]
  },
  {
   "cell_type": "code",
   "execution_count": 104,
   "id": "e08aaa60",
   "metadata": {},
   "outputs": [
    {
     "data": {
      "text/html": [
       "<style>#sk-container-id-17 {color: black;background-color: white;}#sk-container-id-17 pre{padding: 0;}#sk-container-id-17 div.sk-toggleable {background-color: white;}#sk-container-id-17 label.sk-toggleable__label {cursor: pointer;display: block;width: 100%;margin-bottom: 0;padding: 0.3em;box-sizing: border-box;text-align: center;}#sk-container-id-17 label.sk-toggleable__label-arrow:before {content: \"▸\";float: left;margin-right: 0.25em;color: #696969;}#sk-container-id-17 label.sk-toggleable__label-arrow:hover:before {color: black;}#sk-container-id-17 div.sk-estimator:hover label.sk-toggleable__label-arrow:before {color: black;}#sk-container-id-17 div.sk-toggleable__content {max-height: 0;max-width: 0;overflow: hidden;text-align: left;background-color: #f0f8ff;}#sk-container-id-17 div.sk-toggleable__content pre {margin: 0.2em;color: black;border-radius: 0.25em;background-color: #f0f8ff;}#sk-container-id-17 input.sk-toggleable__control:checked~div.sk-toggleable__content {max-height: 200px;max-width: 100%;overflow: auto;}#sk-container-id-17 input.sk-toggleable__control:checked~label.sk-toggleable__label-arrow:before {content: \"▾\";}#sk-container-id-17 div.sk-estimator input.sk-toggleable__control:checked~label.sk-toggleable__label {background-color: #d4ebff;}#sk-container-id-17 div.sk-label input.sk-toggleable__control:checked~label.sk-toggleable__label {background-color: #d4ebff;}#sk-container-id-17 input.sk-hidden--visually {border: 0;clip: rect(1px 1px 1px 1px);clip: rect(1px, 1px, 1px, 1px);height: 1px;margin: -1px;overflow: hidden;padding: 0;position: absolute;width: 1px;}#sk-container-id-17 div.sk-estimator {font-family: monospace;background-color: #f0f8ff;border: 1px dotted black;border-radius: 0.25em;box-sizing: border-box;margin-bottom: 0.5em;}#sk-container-id-17 div.sk-estimator:hover {background-color: #d4ebff;}#sk-container-id-17 div.sk-parallel-item::after {content: \"\";width: 100%;border-bottom: 1px solid gray;flex-grow: 1;}#sk-container-id-17 div.sk-label:hover label.sk-toggleable__label {background-color: #d4ebff;}#sk-container-id-17 div.sk-serial::before {content: \"\";position: absolute;border-left: 1px solid gray;box-sizing: border-box;top: 0;bottom: 0;left: 50%;z-index: 0;}#sk-container-id-17 div.sk-serial {display: flex;flex-direction: column;align-items: center;background-color: white;padding-right: 0.2em;padding-left: 0.2em;position: relative;}#sk-container-id-17 div.sk-item {position: relative;z-index: 1;}#sk-container-id-17 div.sk-parallel {display: flex;align-items: stretch;justify-content: center;background-color: white;position: relative;}#sk-container-id-17 div.sk-item::before, #sk-container-id-17 div.sk-parallel-item::before {content: \"\";position: absolute;border-left: 1px solid gray;box-sizing: border-box;top: 0;bottom: 0;left: 50%;z-index: -1;}#sk-container-id-17 div.sk-parallel-item {display: flex;flex-direction: column;z-index: 1;position: relative;background-color: white;}#sk-container-id-17 div.sk-parallel-item:first-child::after {align-self: flex-end;width: 50%;}#sk-container-id-17 div.sk-parallel-item:last-child::after {align-self: flex-start;width: 50%;}#sk-container-id-17 div.sk-parallel-item:only-child::after {width: 0;}#sk-container-id-17 div.sk-dashed-wrapped {border: 1px dashed gray;margin: 0 0.4em 0.5em 0.4em;box-sizing: border-box;padding-bottom: 0.4em;background-color: white;}#sk-container-id-17 div.sk-label label {font-family: monospace;font-weight: bold;display: inline-block;line-height: 1.2em;}#sk-container-id-17 div.sk-label-container {text-align: center;}#sk-container-id-17 div.sk-container {/* jupyter's `normalize.less` sets `[hidden] { display: none; }` but bootstrap.min.css set `[hidden] { display: none !important; }` so we also need the `!important` here to be able to override the default hidden behavior on the sphinx rendered scikit-learn.org. See: https://github.com/scikit-learn/scikit-learn/issues/21755 */display: inline-block !important;position: relative;}#sk-container-id-17 div.sk-text-repr-fallback {display: none;}</style><div id=\"sk-container-id-17\" class=\"sk-top-container\"><div class=\"sk-text-repr-fallback\"><pre>MinMaxScaler()</pre><b>In a Jupyter environment, please rerun this cell to show the HTML representation or trust the notebook. <br />On GitHub, the HTML representation is unable to render, please try loading this page with nbviewer.org.</b></div><div class=\"sk-container\" hidden><div class=\"sk-item\"><div class=\"sk-estimator sk-toggleable\"><input class=\"sk-toggleable__control sk-hidden--visually\" id=\"sk-estimator-id-17\" type=\"checkbox\" checked><label for=\"sk-estimator-id-17\" class=\"sk-toggleable__label sk-toggleable__label-arrow\">MinMaxScaler</label><div class=\"sk-toggleable__content\"><pre>MinMaxScaler()</pre></div></div></div></div></div>"
      ],
      "text/plain": [
       "MinMaxScaler()"
      ]
     },
     "execution_count": 104,
     "metadata": {},
     "output_type": "execute_result"
    }
   ],
   "source": [
    "# initialising the MinMaxScaler\n",
    "scaler = MinMaxScaler(feature_range=(0, 1))\n",
    "scaler.fit(df[names])"
   ]
  },
  {
   "cell_type": "code",
   "execution_count": 105,
   "id": "adb28d90",
   "metadata": {},
   "outputs": [],
   "source": [
    "df[names] = scaler.transform(df[names])"
   ]
  },
  {
   "cell_type": "code",
   "execution_count": 106,
   "id": "488083f5",
   "metadata": {},
   "outputs": [
    {
     "name": "stdout",
     "output_type": "stream",
     "text": [
      "[['City' 'Furnishing Status' 'Bathroom']\n",
      " ['1' '1' '2']\n",
      " ['1' '2' '1']\n",
      " ...\n",
      " ['6' '2' '3']\n",
      " ['6' '2' '2']\n",
      " ['6' '1' '2']]\n"
     ]
    }
   ],
   "source": [
    "numpy.set_printoptions(precision=8)\n",
    "print(X)"
   ]
  },
  {
   "cell_type": "code",
   "execution_count": null,
   "id": "67b9868e",
   "metadata": {},
   "outputs": [],
   "source": []
  },
  {
   "cell_type": "code",
   "execution_count": 107,
   "id": "a4b02cb7",
   "metadata": {},
   "outputs": [],
   "source": [
    "#Python code for binarization"
   ]
  },
  {
   "cell_type": "code",
   "execution_count": 108,
   "id": "9c2f5e11",
   "metadata": {},
   "outputs": [],
   "source": [
    "# import libraries\n",
    "from sklearn.preprocessing import Binarizer\n",
    "import pandas\n",
    "import numpy"
   ]
  },
  {
   "cell_type": "code",
   "execution_count": 109,
   "id": "c93e6806",
   "metadata": {},
   "outputs": [],
   "source": [
    "# data set link\n",
    "df=pd.read_csv(\"House_Rent.csv\")"
   ]
  },
  {
   "cell_type": "code",
   "execution_count": 110,
   "id": "b65d9227",
   "metadata": {},
   "outputs": [],
   "source": [
    "# data parameters\n",
    "names = ['BHK', 'Rent', 'Size']"
   ]
  },
  {
   "cell_type": "code",
   "execution_count": 111,
   "id": "b8eb9cc5",
   "metadata": {},
   "outputs": [],
   "source": [
    "# preparating of dataframe using the data at given link and defined columns list\n",
    "dataframe = pandas.read_csv(\"House_Rent.csv\", names = names)\n",
    "array = dataframe.values"
   ]
  },
  {
   "cell_type": "code",
   "execution_count": 131,
   "id": "f255ce6d",
   "metadata": {},
   "outputs": [],
   "source": [
    "# separate array into input and output components\n",
    "X = array[:, 0:2]\n",
    "Y = array[:, 2]\n",
    "binarizer = Binarizer(threshold = 0.0).fit(X[1:])\n",
    "binaryX = binarizer.transform(X[1:])"
   ]
  },
  {
   "cell_type": "code",
   "execution_count": 138,
   "id": "a4557b6d",
   "metadata": {},
   "outputs": [],
   "source": [
    "# separate array into input and output components\n",
    "X = array[:, 0:7]\n",
    "Y = array[:, 2]\n",
    "binarizer = Binarizer(threshold = 0.0).fit(X[1:])\n",
    "binaryX = binarizer.transform(X[1:])"
   ]
  },
  {
   "cell_type": "code",
   "execution_count": 141,
   "id": "0036f9ac",
   "metadata": {},
   "outputs": [
    {
     "name": "stdout",
     "output_type": "stream",
     "text": [
      "[[1. 1. 1.]\n",
      " [1. 1. 1.]\n",
      " [1. 1. 1.]\n",
      " [1. 1. 1.]\n",
      " [1. 1. 1.]\n",
      " [1. 1. 1.]\n",
      " [1. 1. 1.]\n",
      " [1. 1. 1.]]\n"
     ]
    }
   ],
   "source": [
    "# summarize transformed data\n",
    "numpy.set_printoptions(precision = 7)\n",
    "print(binaryX[0:8,0:8])"
   ]
  },
  {
   "cell_type": "code",
   "execution_count": null,
   "id": "14dcd1fd",
   "metadata": {},
   "outputs": [],
   "source": []
  },
  {
   "cell_type": "code",
   "execution_count": 142,
   "id": "91d9d5bb",
   "metadata": {},
   "outputs": [],
   "source": [
    "#Standardize Data"
   ]
  },
  {
   "cell_type": "code",
   "execution_count": 149,
   "id": "20a43d64",
   "metadata": {},
   "outputs": [],
   "source": [
    "# import libraries\n",
    "from sklearn.preprocessing import StandardScaler\n",
    "import pandas\n",
    "import numpy"
   ]
  },
  {
   "cell_type": "code",
   "execution_count": 150,
   "id": "d456adcc",
   "metadata": {},
   "outputs": [],
   "source": [
    "# data set link\n",
    "df=pd.read_csv(\"House_Rent.csv\")"
   ]
  },
  {
   "cell_type": "code",
   "execution_count": 151,
   "id": "9ed07120",
   "metadata": {},
   "outputs": [],
   "source": [
    "# data parameters\n",
    "names = ['BHK', 'Rent', 'Size']"
   ]
  },
  {
   "cell_type": "code",
   "execution_count": 152,
   "id": "0505d8d0",
   "metadata": {},
   "outputs": [],
   "source": [
    "# preparating of dataframe using the data at given link and defined columns list\n",
    "dataframe = pandas.read_csv(\"House_Rent.csv\", names = names)\n",
    "array = dataframe.values"
   ]
  },
  {
   "cell_type": "code",
   "execution_count": 155,
   "id": "87260d0a",
   "metadata": {},
   "outputs": [],
   "source": [
    "# separate array into input and output components\n",
    "X = array[:, 0:2]\n",
    "Y = array[:, 2]"
   ]
  },
  {
   "cell_type": "code",
   "execution_count": 156,
   "id": "566808c0",
   "metadata": {},
   "outputs": [],
   "source": [
    "scaler = StandardScaler().fit(X[1:])\n",
    "rescaledX = scaler.transform(X[1:])"
   ]
  },
  {
   "cell_type": "code",
   "execution_count": 157,
   "id": "cb843eef",
   "metadata": {},
   "outputs": [
    {
     "name": "stdout",
     "output_type": "stream",
     "text": [
      "[[-1.577 -1.27 ]\n",
      " [-1.577  0.787]\n",
      " [-1.577  0.787]\n",
      " [-1.577 -1.27 ]\n",
      " [-1.577 -1.27 ]]\n"
     ]
    }
   ],
   "source": [
    "# summarize transformed data\n",
    "numpy.set_printoptions(precision = 3)\n",
    "print(rescaledX[0:5,:])"
   ]
  },
  {
   "cell_type": "code",
   "execution_count": null,
   "id": "b0e444ae",
   "metadata": {},
   "outputs": [],
   "source": []
  }
 ],
 "metadata": {
  "kernelspec": {
   "display_name": "Python 3 (ipykernel)",
   "language": "python",
   "name": "python3"
  },
  "language_info": {
   "codemirror_mode": {
    "name": "ipython",
    "version": 3
   },
   "file_extension": ".py",
   "mimetype": "text/x-python",
   "name": "python",
   "nbconvert_exporter": "python",
   "pygments_lexer": "ipython3",
   "version": "3.10.2"
  }
 },
 "nbformat": 4,
 "nbformat_minor": 5
}
