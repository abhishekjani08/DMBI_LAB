{
 "cells": [
  {
   "cell_type": "code",
   "execution_count": 1,
   "id": "dad2282a",
   "metadata": {},
   "outputs": [],
   "source": [
    "import pandas as pd\n",
    "import numpy as np\n",
    "from sklearn.model_selection import train_test_split\n",
    "from sklearn.preprocessing import StandardScaler\n",
    "from sklearn.linear_model import LogisticRegression\n",
    "from sklearn.ensemble import RandomForestClassifier\n",
    "from sklearn.tree import DecisionTreeClassifier\n",
    "from sklearn.neighbors import KNeighborsClassifier\n",
    "from sklearn.svm import SVC\n",
    "from sklearn.naive_bayes import GaussianNB\n",
    "from sklearn.metrics import accuracy_score, precision_score, recall_score, f1_score"
   ]
  },
  {
   "cell_type": "code",
   "execution_count": 2,
   "id": "98e49f29",
   "metadata": {},
   "outputs": [],
   "source": [
    "# Load the dataset\n",
    "data = pd.read_csv(\"House_Rent.csv\")"
   ]
  },
  {
   "cell_type": "code",
   "execution_count": 3,
   "id": "2a1867c5",
   "metadata": {},
   "outputs": [],
   "source": [
    "# Split the data\n",
    "X = data.iloc[:, 1:-1].values\n",
    "y = data.iloc[:, -1].values\n",
    "X_train, X_test, y_train, y_test = train_test_split(X, y, test_size=0.3, random_state=42)\n"
   ]
  },
  {
   "cell_type": "code",
   "execution_count": 4,
   "id": "c8debac4",
   "metadata": {},
   "outputs": [],
   "source": [
    "# Preprocess the data\n",
    "sc = StandardScaler()\n",
    "X_train = sc.fit_transform(X_train)\n",
    "X_test = sc.transform(X_test)"
   ]
  },
  {
   "cell_type": "code",
   "execution_count": 5,
   "id": "cb11e0a7",
   "metadata": {},
   "outputs": [],
   "source": [
    "# Train the algorithms\n",
    "classifiers = {\n",
    "    \"Logistic Regression\": LogisticRegression(),\n",
    "    \"Random Forest\": RandomForestClassifier(),\n",
    "    \"Decision Tree\": DecisionTreeClassifier(),\n",
    "    \"K-Nearest Neighbors\": KNeighborsClassifier(),\n",
    "    \"SVM\": SVC(),\n",
    "    \"Naive Bayes\": GaussianNB()\n",
    "}"
   ]
  },
  {
   "cell_type": "code",
   "execution_count": 6,
   "id": "17766973",
   "metadata": {},
   "outputs": [
    {
     "name": "stderr",
     "output_type": "stream",
     "text": [
      "C:\\Users\\Asus\\AppData\\Local\\Programs\\Python\\Python310\\lib\\site-packages\\sklearn\\linear_model\\_logistic.py:458: ConvergenceWarning: lbfgs failed to converge (status=1):\n",
      "STOP: TOTAL NO. of ITERATIONS REACHED LIMIT.\n",
      "\n",
      "Increase the number of iterations (max_iter) or scale the data as shown in:\n",
      "    https://scikit-learn.org/stable/modules/preprocessing.html\n",
      "Please also refer to the documentation for alternative solver options:\n",
      "    https://scikit-learn.org/stable/modules/linear_model.html#logistic-regression\n",
      "  n_iter_i = _check_optimize_result(\n",
      "C:\\Users\\Asus\\AppData\\Local\\Programs\\Python\\Python310\\lib\\site-packages\\sklearn\\metrics\\_classification.py:1344: UndefinedMetricWarning: Precision is ill-defined and being set to 0.0 in labels with no predicted samples. Use `zero_division` parameter to control this behavior.\n",
      "  _warn_prf(average, modifier, msg_start, len(result))\n"
     ]
    },
    {
     "name": "stdout",
     "output_type": "stream",
     "text": [
      "Logistic Regression:\n",
      "Accuracy score: 0.7246\n",
      "Precision score: 0.7114\n",
      "Recall score: 0.7246\n",
      "F1 score: 0.7149\n",
      "\n",
      "\n",
      "Random Forest:\n",
      "Accuracy score: 0.7295\n",
      "Precision score: 0.7290\n",
      "Recall score: 0.7295\n",
      "F1 score: 0.7280\n",
      "\n",
      "\n",
      "Decision Tree:\n",
      "Accuracy score: 0.6843\n",
      "Precision score: 0.6893\n",
      "Recall score: 0.6843\n",
      "F1 score: 0.6852\n",
      "\n",
      "\n",
      "K-Nearest Neighbors:\n",
      "Accuracy score: 0.7436\n",
      "Precision score: 0.7353\n",
      "Recall score: 0.7436\n",
      "F1 score: 0.7376\n",
      "\n",
      "\n",
      "SVM:\n",
      "Accuracy score: 0.7182\n",
      "Precision score: 0.7120\n",
      "Recall score: 0.7182\n",
      "F1 score: 0.7118\n",
      "\n",
      "\n",
      "Naive Bayes:\n",
      "Accuracy score: 0.4449\n",
      "Precision score: 0.6521\n",
      "Recall score: 0.4449\n",
      "F1 score: 0.5004\n",
      "\n",
      "\n"
     ]
    },
    {
     "name": "stderr",
     "output_type": "stream",
     "text": [
      "C:\\Users\\Asus\\AppData\\Local\\Programs\\Python\\Python310\\lib\\site-packages\\sklearn\\metrics\\_classification.py:1344: UndefinedMetricWarning: Precision is ill-defined and being set to 0.0 in labels with no predicted samples. Use `zero_division` parameter to control this behavior.\n",
      "  _warn_prf(average, modifier, msg_start, len(result))\n",
      "C:\\Users\\Asus\\AppData\\Local\\Programs\\Python\\Python310\\lib\\site-packages\\sklearn\\metrics\\_classification.py:1344: UndefinedMetricWarning: Precision is ill-defined and being set to 0.0 in labels with no predicted samples. Use `zero_division` parameter to control this behavior.\n",
      "  _warn_prf(average, modifier, msg_start, len(result))\n"
     ]
    }
   ],
   "source": [
    "for name, classifier in classifiers.items():\n",
    "    classifier.fit(X_train, y_train)\n",
    "    y_pred1 = classifier.predict(X_test)\n",
    "    y_pred2 = classifier.predict(X_test)\n",
    "    y_pred3= classifier.predict(X_test)\n",
    "\n",
    "    print(f\"{name}:\")\n",
    "    print(f\"Accuracy score: {accuracy_score(y_test, y_pred):.4f}\")\n",
    "    print(f\"Precision score: {precision_score(y_test, y_pred, average='weighted'):.4f}\")\n",
    "    print(f\"Recall score: {recall_score(y_test, y_pred, average='weighted'):.4f}\")\n",
    "    print(f\"F1 score: {f1_score(y_test, y_pred, average='weighted'):.4f}\")\n",
    "    print(\"\\n\")\n",
    "\n",
    "# Choose the best algorithm based on the evaluation metrics"
   ]
  },
  {
   "cell_type": "code",
   "execution_count": 7,
   "id": "dbad97dd",
   "metadata": {},
   "outputs": [
    {
     "name": "stdout",
     "output_type": "stream",
     "text": [
      "[[298  27   1   0   0  95]\n",
      " [194 300  11   0   0 209]\n",
      " [  3  70  26   2   0 112]\n",
      " [  0   3  13   5   0  33]\n",
      " [  0   0   4   1   0   8]\n",
      " [  0   0   0   0   0   1]]\n"
     ]
    }
   ],
   "source": [
    "# Generate the confusion matrix\n",
    "from sklearn.metrics import confusion_matrix\n",
    "y_pred = classifier.predict(X_test)\n",
    "cm = confusion_matrix(y_test, y_pred)\n",
    "print(cm)"
   ]
  },
  {
   "cell_type": "code",
   "execution_count": null,
   "id": "e8c5606f",
   "metadata": {},
   "outputs": [],
   "source": []
  }
 ],
 "metadata": {
  "kernelspec": {
   "display_name": "Python 3 (ipykernel)",
   "language": "python",
   "name": "python3"
  },
  "language_info": {
   "codemirror_mode": {
    "name": "ipython",
    "version": 3
   },
   "file_extension": ".py",
   "mimetype": "text/x-python",
   "name": "python",
   "nbconvert_exporter": "python",
   "pygments_lexer": "ipython3",
   "version": "3.10.2"
  }
 },
 "nbformat": 4,
 "nbformat_minor": 5
}
